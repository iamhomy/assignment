{
 "cells": [
  {
   "cell_type": "raw",
   "metadata": {},
   "source": [
    "1a)\n",
    "\n",
    "expressions = (* ,'hello', / ,+ ,- )\n",
    "values = -87.8, 6\n"
   ]
  },
  {
   "cell_type": "raw",
   "metadata": {},
   "source": [
    "2a)\n",
    "\n",
    "variable - variable is a store of information.\n",
    "string - string is a type of information that can be stored in a variable"
   ]
  },
  {
   "cell_type": "raw",
   "metadata": {},
   "source": [
    "3a)\n",
    "\n",
    "int - it is a integer datatype stores or performs operartions on integer\n",
    "float - it is a floating point datatype stores or performs operartions on floating point numbers\n",
    "bool - true or false are boolean datatypes"
   ]
  },
  {
   "cell_type": "raw",
   "metadata": {},
   "source": [
    "4a)\n",
    "expressions are combination of variables and operators, expressions generally return strings or values"
   ]
  },
  {
   "cell_type": "raw",
   "metadata": {},
   "source": [
    "5a)\n",
    "expressions are combination of variables and operators which return something.\n",
    "statement which is just a standalone unit of execution which doesn't return anything"
   ]
  },
  {
   "cell_type": "raw",
   "metadata": {},
   "source": [
    "6a)\n",
    "23"
   ]
  },
  {
   "cell_type": "raw",
   "metadata": {},
   "source": [
    "7a)\n",
    "'spamspamspam'\n",
    "'spamspamspam'"
   ]
  },
  {
   "cell_type": "raw",
   "metadata": {},
   "source": [
    "8a)\n",
    "because variables should not start with numbers and special characters"
   ]
  },
  {
   "cell_type": "raw",
   "metadata": {},
   "source": [
    "9a)\n",
    "\n",
    "int()\n",
    "float()\n",
    "str()"
   ]
  },
  {
   "cell_type": "raw",
   "metadata": {},
   "source": [
    "10a)\n",
    "\n",
    "'I have eaten ' + '99' + ' burritos.'"
   ]
  }
 ],
 "metadata": {
  "kernelspec": {
   "display_name": "Python 3",
   "language": "python",
   "name": "python3"
  },
  "language_info": {
   "codemirror_mode": {
    "name": "ipython",
    "version": 3
   },
   "file_extension": ".py",
   "mimetype": "text/x-python",
   "name": "python",
   "nbconvert_exporter": "python",
   "pygments_lexer": "ipython3",
   "version": "3.8.3"
  }
 },
 "nbformat": 4,
 "nbformat_minor": 4
}
